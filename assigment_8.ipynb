{
 "cells": [
  {
   "cell_type": "code",
   "execution_count": null,
   "id": "5fa046da",
   "metadata": {},
   "outputs": [],
   "source": [
    "# Q1. You are writing code for a company. The requirement of the company is that you create a python \n",
    "# function that will check whether the password entered by the user is correct or not. The function should \n",
    "# take the password as input and return the string “Valid Password” if the entered password follows the \n",
    "# below-given password guidelines else it should return “Invalid Password”.\n",
    "\n",
    "\n",
    "# Note: 1. The Password should contain at least two uppercase letters and at least two lowercase letters.\n",
    "\n",
    "# 2. The Password should contain at least a number and three special characters.\n",
    "\n",
    "# 3. The length of the password should be 10 characters long."
   ]
  },
  {
   "cell_type": "code",
   "execution_count": 5,
   "id": "311817ae",
   "metadata": {},
   "outputs": [],
   "source": [
    "\n",
    "def checking(s):\n",
    "    pas = s \n",
    "    var = False \n",
    "    if(len(pas)>=10):\n",
    "        u_number =0\n",
    "        l_number = 0\n",
    "        number = 0\n",
    "        s_number = 0\n",
    "        \n",
    "        for i in pas:\n",
    "            if (i in string.punctuation):\n",
    "                s_number= s_number + 1\n",
    "            if (i.isupper()):\n",
    "                u_number = u_number +1\n",
    "            if(i.islower()):\n",
    "                l_number = l_number +1\n",
    "            if(i.isdigit()):\n",
    "                number = number +1\n",
    "        if (u_number >=2 and l_number >=2 and number>=1 and s_number >=3):\n",
    "            var = True\n",
    "    \n",
    "    if(var):\n",
    "        return \"valid Password\"\n",
    "    else :\n",
    "        return \"in-valid Password\"\n",
    "            "
   ]
  },
  {
   "cell_type": "code",
   "execution_count": 14,
   "id": "844ea246",
   "metadata": {
    "scrolled": true
   },
   "outputs": [
    {
     "name": "stdout",
     "output_type": "stream",
     "text": [
      "Enter you password :DHRuv!@#$123e\n",
      "valid Password\n"
     ]
    }
   ],
   "source": [
    "import string\n",
    "\n",
    "password = input(\"Enter you password :\")\n",
    "\n",
    "result=  checking(password)\n",
    "print(result)"
   ]
  },
  {
   "cell_type": "code",
   "execution_count": 18,
   "id": "d1491cb4",
   "metadata": {},
   "outputs": [],
   "source": [
    "# Q2. Solve the below-given questions using at least one of the following: \n",
    "\n",
    "# 1. Lambda function\n",
    "# 2. Filter function\n",
    "# 3. map function\n",
    "# 4. List Comprehension\n",
    "\n",
    "\n",
    "# Check if the string starts with a particular letter \n",
    "# Check if the string is numeric \n",
    "# Sort a list of tuples having fruit names and their quantity. [(\"mango\",99),(\"orange\",80), (\"grapes\", 1000)-\n",
    "# Find the squares of numbers from 1 to 10\n",
    "# Find the cube root of numbers from 1 to 10\n",
    "# Check if a given number is even\n",
    "# Filter odd numbers from the given list.\n",
    "#  [1,2,3,4,5,6,7,8,9,10]\n",
    "#  Sort a list of integers into positive and negative integers lists.\n",
    "#  [1,2,3,4,5,6,-1,-2,-3,-4,-5,0]"
   ]
  },
  {
   "cell_type": "code",
   "execution_count": 16,
   "id": "6644d971",
   "metadata": {},
   "outputs": [
    {
     "data": {
      "text/plain": [
       "True"
      ]
     },
     "execution_count": 16,
     "metadata": {},
     "output_type": "execute_result"
    }
   ],
   "source": [
    "d = \"Dhruv Panchal\"\n",
    "d.startswith(\"Dhruv\")"
   ]
  },
  {
   "cell_type": "code",
   "execution_count": 20,
   "id": "17c0f577",
   "metadata": {},
   "outputs": [
    {
     "data": {
      "text/plain": [
       "True"
      ]
     },
     "execution_count": 20,
     "metadata": {},
     "output_type": "execute_result"
    }
   ],
   "source": [
    "# Q - 2  ans :\n",
    "# 1\n",
    "string = \"hello its dhruv panchal\"\n",
    "x  = lambda s : s.startswith(\"h\")\n",
    "x(string)"
   ]
  },
  {
   "cell_type": "code",
   "execution_count": 23,
   "id": "b0acd003",
   "metadata": {},
   "outputs": [
    {
     "data": {
      "text/plain": [
       "True"
      ]
     },
     "execution_count": 23,
     "metadata": {},
     "output_type": "execute_result"
    }
   ],
   "source": [
    "# 2\n",
    "string = \"122345\"\n",
    "x  = lambda s : s.isdigit()\n",
    "x(string)"
   ]
  },
  {
   "cell_type": "code",
   "execution_count": 34,
   "id": "147f801c",
   "metadata": {},
   "outputs": [
    {
     "name": "stdout",
     "output_type": "stream",
     "text": [
      "[('orange', 80), ('mango', 99), ('grapes', 1000)]\n"
     ]
    }
   ],
   "source": [
    "# 3 \n",
    "l = [(\"mango\",99),(\"orange\",80), (\"grapes\", 1000)]\n",
    "l.sort(key = lambda k : k[1] )\n",
    "print(l)"
   ]
  },
  {
   "cell_type": "code",
   "execution_count": 32,
   "id": "c78d2cc6",
   "metadata": {},
   "outputs": [
    {
     "name": "stdout",
     "output_type": "stream",
     "text": [
      "[('grapes', 1000), ('mango', 99), ('orange', 80)]\n"
     ]
    }
   ],
   "source": [
    "l = [(\"mango\",99),(\"orange\",80), (\"grapes\", 1000)]\n",
    "l.sort(key = lambda k :k[0])\n",
    "print(l)"
   ]
  },
  {
   "cell_type": "code",
   "execution_count": 35,
   "id": "b079221d",
   "metadata": {},
   "outputs": [
    {
     "name": "stdout",
     "output_type": "stream",
     "text": [
      "[1, 4, 9, 16, 25, 36, 49, 64, 81, 100]\n"
     ]
    }
   ],
   "source": [
    "#  4\n",
    "l1 = [i**2 for i in range(1,11)]\n",
    "print(l1)"
   ]
  },
  {
   "cell_type": "code",
   "execution_count": 37,
   "id": "32eadd13",
   "metadata": {},
   "outputs": [
    {
     "name": "stdout",
     "output_type": "stream",
     "text": [
      "[1.0, 1.2599210498948732, 1.4422495703074083, 1.5874010519681994, 1.7099759466766968, 1.8171205928321397, 1.912931182772389, 2.0, 2.080083823051904, 2.154434690031884]\n"
     ]
    }
   ],
   "source": [
    "# 5 \n",
    "l1 = [i**(1/3) for i in range(1,11)]\n",
    "print(l1)"
   ]
  },
  {
   "cell_type": "code",
   "execution_count": 14,
   "id": "75535f4d",
   "metadata": {},
   "outputs": [
    {
     "name": "stdout",
     "output_type": "stream",
     "text": [
      " enter a number :60\n"
     ]
    },
    {
     "data": {
      "text/plain": [
       "'it is even '"
      ]
     },
     "execution_count": 14,
     "metadata": {},
     "output_type": "execute_result"
    }
   ],
   "source": [
    "# 6\n",
    "number = int(input(\" enter a number :\"))\n",
    "x= (lambda n : (\"it is even \") if n%2==0 else (\"it is not even\"))\n",
    "x(number)"
   ]
  },
  {
   "cell_type": "code",
   "execution_count": 15,
   "id": "0c4824c1",
   "metadata": {},
   "outputs": [
    {
     "data": {
      "text/plain": [
       "[1, 3, 5, 7, 9]"
      ]
     },
     "execution_count": 15,
     "metadata": {},
     "output_type": "execute_result"
    }
   ],
   "source": [
    "# 7 \n",
    "l =[1,2,3,4,5,6,7,8,9,10]\n",
    "list(filter(lambda x : x%2 != 0 , l))"
   ]
  },
  {
   "cell_type": "code",
   "execution_count": 18,
   "id": "eda2c229",
   "metadata": {},
   "outputs": [
    {
     "name": "stdout",
     "output_type": "stream",
     "text": [
      "[1, 2, 3, 4, 5, 6, 0]\n",
      "[-1, -2, -3, -4, -5]\n"
     ]
    }
   ],
   "source": [
    "# 8\n",
    "l=[1,2,3,4,5,6,-1,-2,-3,-4,-5,0]\n",
    "\n",
    "p_l = list(filter(lambda x : x>=0 , l))\n",
    "n_l = list(filter(lambda x : x<0 , l))\n",
    "\n",
    "print(p_l)\n",
    "print(n_l)\n"
   ]
  },
  {
   "cell_type": "code",
   "execution_count": null,
   "id": "f641975d",
   "metadata": {},
   "outputs": [],
   "source": []
  }
 ],
 "metadata": {
  "kernelspec": {
   "display_name": "Python 3 (ipykernel)",
   "language": "python",
   "name": "python3"
  },
  "language_info": {
   "codemirror_mode": {
    "name": "ipython",
    "version": 3
   },
   "file_extension": ".py",
   "mimetype": "text/x-python",
   "name": "python",
   "nbconvert_exporter": "python",
   "pygments_lexer": "ipython3",
   "version": "3.9.7"
  }
 },
 "nbformat": 4,
 "nbformat_minor": 5
}
